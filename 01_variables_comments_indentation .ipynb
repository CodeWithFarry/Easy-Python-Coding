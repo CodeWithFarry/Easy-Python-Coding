{
 "cells": [
  {
   "cell_type": "markdown",
   "metadata": {},
   "source": [
    "# Variables, Comments and Indentation"
   ]
  },
  {
   "cell_type": "markdown",
   "metadata": {},
   "source": [
    "1- Variables:\n",
    "- `Variable Declaration:` variables in Python using the assignment operator (=).\n",
    "- `Variable Naming Rules:` they must start with a letter or underscore, cannot contain spaces, etc.\n",
    "- `Data Types:` integers, floats, strings, booleans, lists, tuples, dictionaries, etc.\n",
    "- `Dynamic Typing:` where variables can dynamically change their type based on the assigned value."
   ]
  },
  {
   "cell_type": "markdown",
   "metadata": {},
   "source": [
    "# <span style=\"color:#007bff\">1- VARIABLES:</span>\n",
    "\n",
    "In Python, variables are created when you assign a value to them using the assignment operator (=). Here's a basic example:"
   ]
  },
  {
   "cell_type": "code",
   "execution_count": null,
   "metadata": {},
   "outputs": [],
   "source": [
    "x = 5 "
   ]
  },
  {
   "cell_type": "markdown",
   "metadata": {},
   "source": [
    "In this example, x is the variable, and 5 is the value assigned to it. "
   ]
  },
  {
   "cell_type": "markdown",
   "metadata": {},
   "source": [
    "## Types of variables:"
   ]
  },
  {
   "cell_type": "code",
   "execution_count": null,
   "metadata": {},
   "outputs": [],
   "source": [
    "x = 5     # x is an integer\n",
    "y = 3.14  # y is a float\n",
    "name = \"John\"  # name is a string\n",
    "is_student = True  # is_student is a boolean\n"
   ]
  },
  {
   "cell_type": "code",
   "execution_count": null,
   "metadata": {},
   "outputs": [],
   "source": [
    "type(x)"
   ]
  },
  {
   "cell_type": "code",
   "execution_count": null,
   "metadata": {},
   "outputs": [],
   "source": [
    "type(y)\n"
   ]
  },
  {
   "cell_type": "code",
   "execution_count": null,
   "metadata": {},
   "outputs": [],
   "source": [
    "type(name)"
   ]
  },
  {
   "cell_type": "code",
   "execution_count": null,
   "metadata": {},
   "outputs": [],
   "source": [
    "type(is_student)"
   ]
  },
  {
   "cell_type": "code",
   "execution_count": null,
   "metadata": {},
   "outputs": [],
   "source": [
    "x = 5\n",
    "print(x) # Output: 5\n",
    "\n",
    "x = 10\n",
    "print(x)  # Output: 10\n"
   ]
  },
  {
   "cell_type": "markdown",
   "metadata": {},
   "source": [
    "## How to name VARIABLES?\n",
    "Python variables follow certain rules for naming:\n",
    "\n",
    "- They must start with a letter (a-z, A-Z) or an underscore (_).\n",
    "- The rest of the variable name can contain letters, numbers, and underscores.\n",
    "- Variable names are case-sensitive.\n",
    "- They cannot start with a number."
   ]
  },
  {
   "cell_type": "code",
   "execution_count": null,
   "metadata": {},
   "outputs": [],
   "source": [
    "my_variable = 42\n",
    "another_variable = \"Hello\"\n"
   ]
  },
  {
   "cell_type": "markdown",
   "metadata": {},
   "source": []
  },
  {
   "cell_type": "markdown",
   "metadata": {},
   "source": [
    "# <span style=\"color:#007bff\">2- COMMENTS :</span>\n",
    "- `Single-line Comments:` using the '#' symbol.\n",
    "- `Multi-line Comments:` using triple quotes (''' or \"\"\").\n",
    "- `Commenting Best Practices:` adding meaningful comments to explain code logic"
   ]
  },
  {
   "cell_type": "code",
   "execution_count": null,
   "metadata": {},
   "outputs": [],
   "source": [
    "# This is a single-line comment\n",
    "print(\"Hello, World!\")  # This is also a single-line comment\n"
   ]
  },
  {
   "cell_type": "code",
   "execution_count": null,
   "metadata": {},
   "outputs": [],
   "source": [
    "'''\n",
    "This is a multi-line comment.\n",
    "It spans multiple lines.\n",
    "'''\n"
   ]
  },
  {
   "cell_type": "code",
   "execution_count": null,
   "metadata": {},
   "outputs": [],
   "source": [
    "\"\"\"This is a multi-line comment.\n",
    "It spans multiple lines.\"\"\""
   ]
  },
  {
   "cell_type": "markdown",
   "metadata": {},
   "source": [
    "# <span style=\"color:#007bff\">3- INDENTATIONS :</span>\n",
    "- `Indentation Rules:` Used to define block structures (e.g., for loops, if statements, function definitions).\n",
    "- `Indentation Level:` Standard indentation level in Python (typically four spaces or one tab) and its significance in maintaining code consistency and readability.\n",
    "- `Indentation Errors:` Common indentation errors (e.g., mixing spaces and tabs) and how to avoid them."
   ]
  },
  {
   "cell_type": "code",
   "execution_count": null,
   "metadata": {},
   "outputs": [],
   "source": [
    "def my_function():\n",
    "    print(\"This is indented with four spaces\")  # Indented with four spaces\n",
    "\n",
    "if condition:\n",
    "    print(\"This is also indented with four spaces\")  # Indented with four spaces\n"
   ]
  },
  {
   "cell_type": "code",
   "execution_count": null,
   "metadata": {},
   "outputs": [],
   "source": [
    "if condition:\n",
    "    print(\"Indented with spaces\")  # Indented with spaces\n",
    "    print(\"Indented with tabs\")    # Indented with tabs (mixing spaces and tabs)\n"
   ]
  }
 ],
 "metadata": {
  "kernelspec": {
   "display_name": "ydata_profiling",
   "language": "python",
   "name": "python3"
  },
  "language_info": {
   "codemirror_mode": {
    "name": "ipython",
    "version": 3
   },
   "file_extension": ".py",
   "mimetype": "text/x-python",
   "name": "python",
   "nbconvert_exporter": "python",
   "pygments_lexer": "ipython3",
   "version": "3.10.0"
  }
 },
 "nbformat": 4,
 "nbformat_minor": 2
}
